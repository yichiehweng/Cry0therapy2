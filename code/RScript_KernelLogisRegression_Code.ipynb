{
 "cells": [
  {
   "cell_type": "code",
   "execution_count": 1,
   "metadata": {},
   "outputs": [],
   "source": [
    "#install.packages(\"CVST\")"
   ]
  },
  {
   "cell_type": "code",
   "execution_count": 2,
   "metadata": {},
   "outputs": [
    {
     "name": "stderr",
     "output_type": "stream",
     "text": [
      "Loading required package: CVST\n",
      "Loading required package: kernlab\n",
      "Loading required package: Matrix\n"
     ]
    }
   ],
   "source": [
    "require(CVST)"
   ]
  },
  {
   "cell_type": "code",
   "execution_count": 3,
   "metadata": {},
   "outputs": [],
   "source": [
    "df=read.csv(\"/home/yichiehweng/python/machineLearning/RandomForest/Cryotherapy/data/Cryotherapy.csv\")"
   ]
  },
  {
   "cell_type": "code",
   "execution_count": 4,
   "metadata": {},
   "outputs": [
    {
     "data": {
      "text/html": [
       "<dl class=dl-horizontal>\n",
       "\t<dt>sex</dt>\n",
       "\t\t<dd>0</dd>\n",
       "\t<dt>age</dt>\n",
       "\t\t<dd>0</dd>\n",
       "\t<dt>Time</dt>\n",
       "\t\t<dd>0</dd>\n",
       "\t<dt>Number_of_Warts</dt>\n",
       "\t\t<dd>0</dd>\n",
       "\t<dt>Type</dt>\n",
       "\t\t<dd>0</dd>\n",
       "\t<dt>Area</dt>\n",
       "\t\t<dd>0</dd>\n",
       "\t<dt>Result_of_Treatment</dt>\n",
       "\t\t<dd>0</dd>\n",
       "</dl>\n"
      ],
      "text/latex": [
       "\\begin{description*}\n",
       "\\item[sex] 0\n",
       "\\item[age] 0\n",
       "\\item[Time] 0\n",
       "\\item[Number\\textbackslash{}\\_of\\textbackslash{}\\_Warts] 0\n",
       "\\item[Type] 0\n",
       "\\item[Area] 0\n",
       "\\item[Result\\textbackslash{}\\_of\\textbackslash{}\\_Treatment] 0\n",
       "\\end{description*}\n"
      ],
      "text/markdown": [
       "sex\n",
       ":   0age\n",
       ":   0Time\n",
       ":   0Number_of_Warts\n",
       ":   0Type\n",
       ":   0Area\n",
       ":   0Result_of_Treatment\n",
       ":   0\n",
       "\n"
      ],
      "text/plain": [
       "                sex                 age                Time     Number_of_Warts \n",
       "                  0                   0                   0                   0 \n",
       "               Type                Area Result_of_Treatment \n",
       "                  0                   0                   0 "
      ]
     },
     "metadata": {},
     "output_type": "display_data"
    }
   ],
   "source": [
    "sapply(df, function(x) sum(is.na(x)))"
   ]
  },
  {
   "cell_type": "code",
   "execution_count": 5,
   "metadata": {},
   "outputs": [],
   "source": [
    "df$Result_of_Treatment<-as.factor(df$Result_of_Treatment)"
   ]
  },
  {
   "cell_type": "code",
   "execution_count": 6,
   "metadata": {},
   "outputs": [],
   "source": [
    "df$sex<-as.factor(df$sex)"
   ]
  },
  {
   "cell_type": "code",
   "execution_count": 7,
   "metadata": {},
   "outputs": [],
   "source": [
    "df$Type<-as.factor(df$Type)"
   ]
  },
  {
   "cell_type": "code",
   "execution_count": 8,
   "metadata": {},
   "outputs": [
    {
     "data": {
      "text/html": [
       "<table>\n",
       "<thead><tr><th scope=col>sex</th><th scope=col>age</th><th scope=col>Time</th><th scope=col>Number_of_Warts</th><th scope=col>Type</th><th scope=col>Area</th><th scope=col>Result_of_Treatment</th></tr></thead>\n",
       "<tbody>\n",
       "\t<tr><td>1    </td><td>35   </td><td>12.00</td><td>5    </td><td>1    </td><td>100  </td><td>0    </td></tr>\n",
       "\t<tr><td>1    </td><td>29   </td><td> 7.00</td><td>5    </td><td>1    </td><td> 96  </td><td>1    </td></tr>\n",
       "\t<tr><td>1    </td><td>50   </td><td> 8.00</td><td>1    </td><td>3    </td><td>132  </td><td>0    </td></tr>\n",
       "\t<tr><td>1    </td><td>32   </td><td>11.75</td><td>7    </td><td>3    </td><td>750  </td><td>0    </td></tr>\n",
       "\t<tr><td>1    </td><td>67   </td><td> 9.25</td><td>1    </td><td>1    </td><td> 42  </td><td>0    </td></tr>\n",
       "</tbody>\n",
       "</table>\n"
      ],
      "text/latex": [
       "\\begin{tabular}{r|lllllll}\n",
       " sex & age & Time & Number\\_of\\_Warts & Type & Area & Result\\_of\\_Treatment\\\\\n",
       "\\hline\n",
       "\t 1     & 35    & 12.00 & 5     & 1     & 100   & 0    \\\\\n",
       "\t 1     & 29    &  7.00 & 5     & 1     &  96   & 1    \\\\\n",
       "\t 1     & 50    &  8.00 & 1     & 3     & 132   & 0    \\\\\n",
       "\t 1     & 32    & 11.75 & 7     & 3     & 750   & 0    \\\\\n",
       "\t 1     & 67    &  9.25 & 1     & 1     &  42   & 0    \\\\\n",
       "\\end{tabular}\n"
      ],
      "text/markdown": [
       "\n",
       "sex | age | Time | Number_of_Warts | Type | Area | Result_of_Treatment | \n",
       "|---|---|---|---|---|\n",
       "| 1     | 35    | 12.00 | 5     | 1     | 100   | 0     | \n",
       "| 1     | 29    |  7.00 | 5     | 1     |  96   | 1     | \n",
       "| 1     | 50    |  8.00 | 1     | 3     | 132   | 0     | \n",
       "| 1     | 32    | 11.75 | 7     | 3     | 750   | 0     | \n",
       "| 1     | 67    |  9.25 | 1     | 1     |  42   | 0     | \n",
       "\n",
       "\n"
      ],
      "text/plain": [
       "  sex age Time  Number_of_Warts Type Area Result_of_Treatment\n",
       "1 1   35  12.00 5               1    100  0                  \n",
       "2 1   29   7.00 5               1     96  1                  \n",
       "3 1   50   8.00 1               3    132  0                  \n",
       "4 1   32  11.75 7               3    750  0                  \n",
       "5 1   67   9.25 1               1     42  0                  "
      ]
     },
     "metadata": {},
     "output_type": "display_data"
    }
   ],
   "source": [
    "head(df,5)"
   ]
  },
  {
   "cell_type": "code",
   "execution_count": 9,
   "metadata": {},
   "outputs": [],
   "source": [
    "set.seed(555)"
   ]
  },
  {
   "cell_type": "code",
   "execution_count": 10,
   "metadata": {},
   "outputs": [],
   "source": [
    "ind <- sample(2,nrow(df),replace=TRUE,prob=c(0.75,0.25))"
   ]
  },
  {
   "cell_type": "code",
   "execution_count": 11,
   "metadata": {},
   "outputs": [],
   "source": [
    "train <- df[ind==1,]"
   ]
  },
  {
   "cell_type": "code",
   "execution_count": 12,
   "metadata": {},
   "outputs": [],
   "source": [
    "test <- df[ind==2,]"
   ]
  },
  {
   "cell_type": "code",
   "execution_count": 13,
   "metadata": {},
   "outputs": [],
   "source": [
    "train.matrix=data.matrix(train[,0:5])"
   ]
  },
  {
   "cell_type": "code",
   "execution_count": 14,
   "metadata": {},
   "outputs": [],
   "source": [
    "d = constructData(x=train.matrix, y=train$Result_of_Treatment) "
   ]
  },
  {
   "cell_type": "code",
   "execution_count": 16,
   "metadata": {},
   "outputs": [],
   "source": [
    "klr = constructKlogRegLearner()"
   ]
  },
  {
   "cell_type": "code",
   "execution_count": 17,
   "metadata": {},
   "outputs": [],
   "source": [
    "p = list(kernel=\"rbfdot\", sigma=1, lambda=.1/getN(d), tol=10e-6, maxiter=100)"
   ]
  },
  {
   "cell_type": "code",
   "execution_count": 18,
   "metadata": {},
   "outputs": [],
   "source": [
    "m = klr$learn(d, p)"
   ]
  },
  {
   "cell_type": "code",
   "execution_count": 19,
   "metadata": {},
   "outputs": [],
   "source": [
    "test.matrix=data.matrix(test[,0:5])"
   ]
  },
  {
   "cell_type": "code",
   "execution_count": 20,
   "metadata": {},
   "outputs": [],
   "source": [
    "t=constructData(x=test.matrix, y=test$Result_of_Treatment) "
   ]
  },
  {
   "cell_type": "code",
   "execution_count": 22,
   "metadata": {},
   "outputs": [],
   "source": [
    "pred = klr$predict(m, t)"
   ]
  },
  {
   "cell_type": "code",
   "execution_count": 23,
   "metadata": {},
   "outputs": [
    {
     "name": "stdout",
     "output_type": "stream",
     "text": [
      " [1] 1 0 0 0 0 1 0 0 0 1 1 0 1 1 1 1 0 1 0\n",
      "Levels: 0 1\n"
     ]
    }
   ],
   "source": [
    "print(pred)"
   ]
  },
  {
   "cell_type": "code",
   "execution_count": 24,
   "metadata": {},
   "outputs": [
    {
     "data": {
      "text/plain": [
       "    \n",
       "pred 0 1\n",
       "   0 9 1\n",
       "   1 0 9"
      ]
     },
     "metadata": {},
     "output_type": "display_data"
    }
   ],
   "source": [
    "table(pred, test$Result_of_Treatment)"
   ]
  },
  {
   "cell_type": "code",
   "execution_count": 25,
   "metadata": {},
   "outputs": [],
   "source": [
    "confus.matrix = table(test$Result_of_Treatment, predict=pred)"
   ]
  },
  {
   "cell_type": "code",
   "execution_count": 26,
   "metadata": {},
   "outputs": [
    {
     "data": {
      "text/html": [
       "0.947368421052632"
      ],
      "text/latex": [
       "0.947368421052632"
      ],
      "text/markdown": [
       "0.947368421052632"
      ],
      "text/plain": [
       "[1] 0.9473684"
      ]
     },
     "metadata": {},
     "output_type": "display_data"
    }
   ],
   "source": [
    "sum(diag(confus.matrix))/sum(confus.matrix)"
   ]
  }
 ],
 "metadata": {
  "kernelspec": {
   "display_name": "R",
   "language": "R",
   "name": "ir"
  },
  "language_info": {
   "codemirror_mode": "r",
   "file_extension": ".r",
   "mimetype": "text/x-r-source",
   "name": "R",
   "pygments_lexer": "r",
   "version": "3.4.3"
  }
 },
 "nbformat": 4,
 "nbformat_minor": 2
}
